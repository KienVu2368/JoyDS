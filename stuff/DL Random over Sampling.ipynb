{
 "cells": [
  {
   "cell_type": "markdown",
   "metadata": {
    "heading_collapsed": true
   },
   "source": [
    "# import"
   ]
  },
  {
   "cell_type": "code",
   "execution_count": 2,
   "metadata": {
    "collapsed": true,
    "hidden": true
   },
   "outputs": [],
   "source": [
    "from fastai.imports import *\n",
    "from fastai.text import *\n",
    "from fastai.structured import *\n",
    "from fastai.column_data import *\n",
    "from torch.nn import functional as F\n",
    "from sklearn.metrics import roc_auc_score\n",
    "from sklearn.model_selection import train_test_split\n",
    "\n",
    "from imblearn.over_sampling import RandomOverSampler\n",
    "import random"
   ]
  },
  {
   "cell_type": "code",
   "execution_count": 51,
   "metadata": {
    "collapsed": true,
    "hidden": true
   },
   "outputs": [],
   "source": [
    "import pdb\n",
    "import gc\n",
    "from collections import Counter"
   ]
  },
  {
   "cell_type": "markdown",
   "metadata": {
    "heading_collapsed": true
   },
   "source": [
    "# read data"
   ]
  },
  {
   "cell_type": "code",
   "execution_count": 4,
   "metadata": {
    "collapsed": true,
    "hidden": true
   },
   "outputs": [],
   "source": [
    "def proc_df2(df, y_fld = None, skip_flds=None, do_scale=True, na_dict=None,\n",
    "             preproc_fn=None, max_n_cat=10, subset=None, mapper=None):\n",
    "    if not skip_flds: skip_flds=[]\n",
    "    if subset: df = get_sample(df,subset)\n",
    "    df = df.copy()\n",
    "    if preproc_fn: preproc_fn(df)\n",
    "    if y_fld is not None: \n",
    "        y = df[y_fld].values\n",
    "        df.drop(skip_flds+[y_fld], axis=1, inplace=True)\n",
    "\n",
    "    if na_dict is None: na_dict = {}\n",
    "    for n,c in df.items(): na_dict = fix_missing(df, c, n, na_dict)\n",
    "    if do_scale: mapper = scale_vars(df, mapper)\n",
    "    for n,c in df.items(): numericalize(df, c, n, max_n_cat)\n",
    "    if y_fld is not None: \n",
    "        res = [pd.get_dummies(df, dummy_na=True), y, na_dict]\n",
    "    else:\n",
    "        res = [pd.get_dummies(df, dummy_na=True), na_dict]\n",
    "    if do_scale: res = res + [mapper]\n",
    "    return res"
   ]
  },
  {
   "cell_type": "code",
   "execution_count": 5,
   "metadata": {
    "collapsed": true,
    "hidden": true
   },
   "outputs": [],
   "source": [
    "df_train = pd.read_csv('data/application_train.csv')\n",
    "train_cats(df_train)\n",
    "y_label = df_train['TARGET'].values\n",
    "df_train = df_train.drop(columns = ['TARGET', 'SK_ID_CURR'])"
   ]
  },
  {
   "cell_type": "code",
   "execution_count": 6,
   "metadata": {
    "collapsed": true,
    "hidden": true
   },
   "outputs": [],
   "source": [
    "x_train,x_valid, y_train, y_valid = train_test_split(df_train, y_label, test_size=0.25, stratify = y_label)"
   ]
  },
  {
   "cell_type": "code",
   "execution_count": 7,
   "metadata": {
    "collapsed": true,
    "hidden": true
   },
   "outputs": [],
   "source": [
    "train_proc, train_na, mapper = proc_df2(x_train)\n",
    "valid_proc, valid_na, _ =  proc_df2(x_valid, na_dict = train_na, mapper= mapper)"
   ]
  },
  {
   "cell_type": "code",
   "execution_count": 8,
   "metadata": {
    "hidden": true
   },
   "outputs": [
    {
     "data": {
      "text/plain": [
       "154"
      ]
     },
     "execution_count": 8,
     "metadata": {},
     "output_type": "execute_result"
    }
   ],
   "source": [
    "del df_train, y_label, x_train, x_valid; gc.collect()"
   ]
  },
  {
   "cell_type": "markdown",
   "metadata": {},
   "source": [
    "# data loader"
   ]
  },
  {
   "cell_type": "code",
   "execution_count": 140,
   "metadata": {
    "collapsed": true
   },
   "outputs": [],
   "source": [
    "class ramdom_over_sampler(Sampler):\n",
    "    def __init__(self, y):\n",
    "        self.y = y\n",
    "        \n",
    "    def __len__(self): return (self.y == 0).sum()*2\n",
    "    \n",
    "    def __iter__(self):\n",
    "        ros = RandomOverSampler(random_state=2368)\n",
    "        x_samp, y_samp = ros.fit_sample(np.array(range(len(self.y))).reshape(-1, 1), self.y)\n",
    "        x_samp = x_samp.reshape(-1)\n",
    "        \n",
    "        x_samp_n, x_samp_p = x_samp[y_samp == 0], x_samp[y_samp == 1]\n",
    "        np.random.shuffle(x_samp_p)\n",
    "        #np.random.shuffle(x_samp_n);\n",
    "        ids = np.array([x_samp_n, x_samp_p]).T.flatten()\n",
    "        \n",
    "        return iter(ids)"
   ]
  },
  {
   "cell_type": "code",
   "execution_count": 9,
   "metadata": {
    "collapsed": true
   },
   "outputs": [],
   "source": [
    "class cstmz_dataset(Dataset):\n",
    "    def __init__(self, x, y):\n",
    "        self.x, self.y = x, y\n",
    "\n",
    "    def __len__(self): return len(self.y)\n",
    "    \n",
    "    def col_size(self): return self.x.shape[1]\n",
    "        \n",
    "    def __getitem__(self, idx):\n",
    "        return [self.x.iloc[idx].values, self.y[idx]]"
   ]
  },
  {
   "cell_type": "code",
   "execution_count": 115,
   "metadata": {
    "collapsed": true
   },
   "outputs": [],
   "source": [
    "class cstmz_md(ModelData):    \n",
    "    @classmethod\n",
    "    def get_dataset(cls, path, x_tr, y_tr, x_val, y_val, tr_sampler = None, val_sampler = None, bs = 16):\n",
    "        trn_ds = cstmz_dataset(x_tr, y_tr)\n",
    "        val_ds = cstmz_dataset(x_val, y_val)\n",
    "        return cls.get_dl(path, trn_ds, val_ds, tr_sampler, val_sampler, bs)\n",
    "    \n",
    "    @classmethod\n",
    "    def get_dl(cls, path, trn_ds, val_ds, tr_sampler = None, val_sampler = None, bs = 16):\n",
    "        trn_dl = DataLoader(dataset = trn_ds, batch_size = bs, sampler = tr_sampler)\n",
    "        val_dl = DataLoader(dataset = val_ds, batch_size = bs, sampler = val_sampler)\n",
    "        return cls(path, trn_dl, val_dl, None)"
   ]
  },
  {
   "cell_type": "code",
   "execution_count": 141,
   "metadata": {
    "collapsed": true
   },
   "outputs": [],
   "source": [
    "tr_sampler = ramdom_over_sampler(y_train)\n",
    "val_sampler = ramdom_over_sampler(y_valid)"
   ]
  },
  {
   "cell_type": "code",
   "execution_count": 142,
   "metadata": {
    "collapsed": true
   },
   "outputs": [],
   "source": [
    "model_data = cstmz_md.get_dataset('', train_proc, y_train, valid_proc, y_valid, \n",
    "                                   tr_sampler = tr_sampler, val_sampler = val_sampler, bs = 64)"
   ]
  },
  {
   "cell_type": "markdown",
   "metadata": {},
   "source": [
    "# Architechture"
   ]
  },
  {
   "cell_type": "code",
   "execution_count": 21,
   "metadata": {
    "collapsed": true
   },
   "outputs": [],
   "source": [
    "class bsc_ln(nn.Module):\n",
    "    def __init__(self, ip_sz, op_sz, drp_rt = None):\n",
    "        super().__init__()\n",
    "        self.op_sz = op_sz\n",
    "        self.ln = nn.Linear(ip_sz, op_sz)\n",
    "        kaiming_normal(self.ln.weight.data)\n",
    "        if drp_rt is not None:\n",
    "            self.bn = nn.BatchNorm1d(op_sz)\n",
    "            self.drp = nn.Dropout(drp_rt)        \n",
    "        \n",
    "    def forward(self, x):\n",
    "        return self.drp(self.bn(F.relu(self.ln(x)))) if self.op_sz != 1 else F.sigmoid(self.ln(x))"
   ]
  },
  {
   "cell_type": "code",
   "execution_count": 22,
   "metadata": {
    "collapsed": true
   },
   "outputs": [],
   "source": [
    "class ctmz_Model(nn.Module):\n",
    "    def __init__(self, layers, drp_rt):  \n",
    "        super().__init__()\n",
    "        lyrs = [model_data.trn_dl.dataset.col_size()] + layers + [1]    \n",
    "        drp_rt = drp_rt + [None]\n",
    "        self.lns = nn.ModuleList([bsc_ln(lyrs[i], lyrs[i+1], drp_rt[i]) for i in range(len(lyrs)-1)])\n",
    "        \n",
    "    def forward(self, x):\n",
    "        for lyer in self.lns: x = lyer(x)\n",
    "        return x"
   ]
  },
  {
   "cell_type": "code",
   "execution_count": 23,
   "metadata": {
    "collapsed": true
   },
   "outputs": [],
   "source": [
    "model = ctmz_Model(layers = [512, 256, 128, 64, 32], drp_rt = [0.2, 0.1, 0.15, 0.15, 0.25])"
   ]
  },
  {
   "cell_type": "markdown",
   "metadata": {},
   "source": [
    "# leaner"
   ]
  },
  {
   "cell_type": "code",
   "execution_count": 143,
   "metadata": {
    "collapsed": true
   },
   "outputs": [],
   "source": [
    "def bce_loss(inp,targ):\n",
    "    inp_flat = inp.view(-1); targ_flat = targ.float().view(-1)\n",
    "    return F.binary_cross_entropy(inp_flat, targ_flat)"
   ]
  },
  {
   "cell_type": "code",
   "execution_count": 145,
   "metadata": {
    "collapsed": true
   },
   "outputs": [],
   "source": [
    "ff_learner = Learner.from_model_data(model, model_data)\n",
    "ff_learner.crit = bce_loss"
   ]
  },
  {
   "cell_type": "code",
   "execution_count": 146,
   "metadata": {},
   "outputs": [
    {
     "data": {
      "application/vnd.jupyter.widget-view+json": {
       "model_id": "875909034b1f4a9b87c9183f080ece86",
       "version_major": 2,
       "version_minor": 0
      },
      "text/plain": [
       "HBox(children=(IntProgress(value=0, description='Epoch', max=1), HTML(value='')))"
      ]
     },
     "metadata": {},
     "output_type": "display_data"
    },
    {
     "name": "stdout",
     "output_type": "stream",
     "text": [
      " 87%|████████▋ | 5764/6626 [02:53<00:26, 33.15it/s, loss=0.97] "
     ]
    },
    {
     "data": {
      "image/png": "[encoded data removed]",
      "text/plain": [
       "<Figure size 432x288 with 1 Axes>"
      ]
     },
     "metadata": {},
     "output_type": "display_data"
    }
   ],
   "source": [
    "ff_learner.lr_find()\n",
    "ff_learner.sched.plot()"
   ]
  },
  {
   "cell_type": "code",
   "execution_count": 147,
   "metadata": {},
   "outputs": [
    {
     "data": {
      "application/vnd.jupyter.widget-view+json": {
       "model_id": "e3352d6ab03f472d896ea68c573ef9cb",
       "version_major": 2,
       "version_minor": 0
      },
      "text/plain": [
       "HBox(children=(IntProgress(value=0, description='Epoch', max=5), HTML(value='')))"
      ]
     },
     "metadata": {},
     "output_type": "display_data"
    },
    {
     "name": "stdout",
     "output_type": "stream",
     "text": [
      "epoch      trn_loss   val_loss                                 \n",
      "    0      0.603971   0.610238  \n",
      "    1      0.599115   0.612082                                 \n",
      "    2      0.604759   0.616319                                 \n",
      "    3      0.604356   0.61665                                  \n",
      "    4      0.596816   0.618112                                 \n"
     ]
    },
    {
     "data": {
      "text/plain": [
       "[array([0.61811])]"
      ]
     },
     "execution_count": 147,
     "metadata": {},
     "output_type": "execute_result"
    }
   ],
   "source": [
    "lrs = 1e-1\n",
    "ff_learner.fit(lrs, n_cycle = 5, cycle_len=1)"
   ]
  }
 ],
 "metadata": {
  "kernelspec": {
   "display_name": "Python 3",
   "language": "python",
   "name": "python3"
  },
  "language_info": {
   "codemirror_mode": {
    "name": "ipython",
    "version": 3
   },
   "file_extension": ".py",
   "mimetype": "text/x-python",
   "name": "python",
   "nbconvert_exporter": "python",
   "pygments_lexer": "ipython3",
   "version": "3.6.4"
  },
  "varInspector": {
   "cols": {
    "lenName": 16,
    "lenType": 16,
    "lenVar": 40
   },
   "kernels_config": {
    "python": {
     "delete_cmd_postfix": "",
     "delete_cmd_prefix": "del ",
     "library": "var_list.py",
     "varRefreshCmd": "print(var_dic_list())"
    },
    "r": {
     "delete_cmd_postfix": ") ",
     "delete_cmd_prefix": "rm(",
     "library": "var_list.r",
     "varRefreshCmd": "cat(var_dic_list()) "
    }
   },
   "types_to_exclude": [
    "module",
    "function",
    "builtin_function_or_method",
    "instance",
    "_Feature"
   ],
   "window_display": false
  }
 },
 "nbformat": 4,
 "nbformat_minor": 2
}
