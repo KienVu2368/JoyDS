{
 "cells": [
  {
   "cell_type": "code",
   "execution_count": 1,
   "metadata": {},
   "outputs": [],
   "source": [
    "# Suppress warnings \n",
    "import warnings\n",
    "warnings.filterwarnings('ignore')"
   ]
  },
  {
   "cell_type": "code",
   "execution_count": 2,
   "metadata": {},
   "outputs": [],
   "source": [
    "import numpy as np\n",
    "import pandas as pd \n",
    "from os import path"
   ]
  },
  {
   "cell_type": "code",
   "execution_count": 3,
   "metadata": {},
   "outputs": [],
   "source": [
    "import tabint as tb\n",
    "from tabint.pre_processing import *\n",
    "from tabint.dataset import *\n",
    "from tabint.learner import *\n",
    "from tabint.feature import *\n",
    "from tabint.interpretation import *"
   ]
  },
  {
   "cell_type": "code",
   "execution_count": null,
   "metadata": {},
   "outputs": [],
   "source": []
  },
  {
   "cell_type": "code",
   "execution_count": 4,
   "metadata": {},
   "outputs": [],
   "source": [
    "file_path = '/media/zero/dropbox/Dropbox/Data science project/kaggle/home_credit_default_risk/data/'"
   ]
  },
  {
   "cell_type": "code",
   "execution_count": 5,
   "metadata": {},
   "outputs": [],
   "source": [
    "app_train = pd.read_csv(file_path + 'application_train.csv')"
   ]
  },
  {
   "cell_type": "code",
   "execution_count": 6,
   "metadata": {},
   "outputs": [],
   "source": [
    "app_train_proc, y, pp_outp = tabular_proc(app_train, 'TARGET', [fill_na(), app_cat(), dummies()])"
   ]
  },
  {
   "cell_type": "code",
   "execution_count": 7,
   "metadata": {},
   "outputs": [],
   "source": [
    "cons = pp_outp['cons']; cats = pp_outp['cats']"
   ]
  },
  {
   "cell_type": "code",
   "execution_count": 8,
   "metadata": {},
   "outputs": [],
   "source": [
    "impt_ft = [['EXT_SOURCE_3'], ['EXT_SOURCE_2'], ['AMT_GOODS_PRICE', 'AMT_CREDIT', 'AMT_ANNUITY'], ['EXT_SOURCE_1'], ['DAYS_BIRTH'], ['DAYS_EMPLOYED'], ['DAYS_ID_PUBLISH'], ['CODE_GENDER_F'], ['NAME_EDUCATION_TYPE_Higher education'], ['FLAG_OWN_CAR_N', 'OWN_CAR_AGE'], ['EXT_SOURCE_1_na'], ['CODE_GENDER_M'], ['NAME_FAMILY_STATUS_Married'],  ['DAYS_LAST_PHONE_CHANGE'], ['NAME_CONTRACT_TYPE_Cash loans'], ['AMT_REQ_CREDIT_BUREAU_HOUR_na', 'AMT_REQ_CREDIT_BUREAU_DAY_na', 'AMT_REQ_CREDIT_BUREAU_WEEK_na', 'AMT_REQ_CREDIT_BUREAU_MON_na', 'AMT_REQ_CREDIT_BUREAU_QRT_na', 'AMT_REQ_CREDIT_BUREAU_YEAR_na'], ['OCCUPATION_TYPE'], ['NAME_EDUCATION_TYPE_Secondary / secondary special'], ['REG_CITY_NOT_LIVE_CITY'], ['ORGANIZATION_TYPE'], ['DAYS_REGISTRATION'], ['NAME_INCOME_TYPE_Working'], ['FLAG_DOCUMENT_13'], ['FLAG_WORK_PHONE'], ['FLAG_DOCUMENT_16'], ['OWN_CAR_AGE_na']]"
   ]
  },
  {
   "cell_type": "code",
   "execution_count": 9,
   "metadata": {},
   "outputs": [],
   "source": [
    "cons = [i for i in cons if i in flat_list(impt_ft)]\n",
    "cats = [i for i in cats if i in flat_list(impt_ft)]"
   ]
  },
  {
   "cell_type": "code",
   "execution_count": 10,
   "metadata": {},
   "outputs": [],
   "source": [
    "app_train_proc = app_train_proc[flat_list(impt_ft)]"
   ]
  },
  {
   "cell_type": "code",
   "execution_count": 11,
   "metadata": {},
   "outputs": [],
   "source": [
    "ds = TBDataset.from_TBSplit(app_train_proc, y, cons, cats)"
   ]
  },
  {
   "cell_type": "code",
   "execution_count": 12,
   "metadata": {},
   "outputs": [],
   "source": [
    "tfs = {'drop 1': ['AMT_REQ_CREDIT_BUREAU_HOUR_na', 'AMT_REQ_CREDIT_BUREAU_DAY_na',\n",
    "                  'AMT_REQ_CREDIT_BUREAU_WEEK_na', 'AMT_REQ_CREDIT_BUREAU_MON_na',\n",
    "                  'AMT_REQ_CREDIT_BUREAU_QRT_na', 'AMT_REQ_CREDIT_BUREAU_YEAR_na'],\n",
    "    \n",
    "        'apply':{'DAYS_BIRTH': lambda df: -df['DAYS_BIRTH']/365,\n",
    "                 'DAYS_EMPLOYED': lambda df: -df['DAYS_EMPLOYED']/365,\n",
    "                 'DAYS_ID_PUBLISH': lambda df: -df['DAYS_ID_PUBLISH']/365,\n",
    "                 'DAYS_LAST_PHONE_CHANGE': lambda df: -df['DAYS_LAST_PHONE_CHANGE']/365,\n",
    "                 'DAYS_REGISTRATION': lambda df: -df['DAYS_REGISTRATION']/365,\n",
    "                 \n",
    "                 'NEW_EXT_SOURCES_MEAN': lambda df: df[['EXT_SOURCE_1', 'EXT_SOURCE_2', 'EXT_SOURCE_3']].mean(axis=1, skipna=True),\n",
    "                 'NEW_EXT_SOURCES_GEO': lambda df: (df['EXT_SOURCE_1']*df['EXT_SOURCE_2']*df['EXT_SOURCE_3'])**(1/3),\n",
    "                 \n",
    "                 'AMT_CREDIT/AMT_GOODS_PRICE': lambda df: df['AMT_CREDIT']/df['AMT_GOODS_PRICE'],\n",
    "                 'AMT_CREDIT/AMT_CREDIT': lambda df: df['AMT_CREDIT']/df['AMT_CREDIT'],\n",
    "                 \n",
    "                 'DAYS_EMPLOYED/DAYS_BIRTH': lambda df: df['DAYS_EMPLOYED']/df['DAYS_BIRTH'],\n",
    "                 'DAYS_BIRTH*EXT_SOURCE_1_na': lambda df: df['DAYS_BIRTH']*df['EXT_SOURCE_1_na']},\n",
    "    \n",
    "        'drop 2': ['AMT_ANNUITY', 'AMT_CREDIT', 'AMT_GOODS_PRICE']}"
   ]
  },
  {
   "cell_type": "code",
   "execution_count": 13,
   "metadata": {},
   "outputs": [],
   "source": [
    "ds.transform(tfs)"
   ]
  },
  {
   "cell_type": "code",
   "execution_count": 14,
   "metadata": {},
   "outputs": [],
   "source": [
    "ds.keep(['DAYS_BIRTH', 'DAYS_ID_PUBLISH'])"
   ]
  },
  {
   "cell_type": "code",
   "execution_count": null,
   "metadata": {},
   "outputs": [],
   "source": []
  },
  {
   "cell_type": "markdown",
   "metadata": {},
   "source": [
    "# learner"
   ]
  },
  {
   "cell_type": "code",
   "execution_count": 15,
   "metadata": {},
   "outputs": [],
   "source": [
    "learner = SKLearner(RandomForestClassifier(n_estimators=1, max_depth=3, bootstrap=False))"
   ]
  },
  {
   "cell_type": "code",
   "execution_count": 16,
   "metadata": {},
   "outputs": [
    {
     "name": "stdout",
     "output_type": "stream",
     "text": [
      "trn accuracy:  0.9190514129621801\n",
      "val accuracy:  0.9201502365738257\n"
     ]
    }
   ],
   "source": [
    "learner.fit(*ds.trn, *ds.val)"
   ]
  },
  {
   "cell_type": "markdown",
   "metadata": {},
   "source": [
    "# plot"
   ]
  },
  {
   "cell_type": "code",
   "execution_count": 17,
   "metadata": {},
   "outputs": [],
   "source": [
    "dt = DrawTree.from_SKLearn(learner, ds)"
   ]
  },
  {
   "cell_type": "code",
   "execution_count": 18,
   "metadata": {},
   "outputs": [
    {
     "data": {
      "image/svg+xml": [
       "<?xml version=\"1.0\" encoding=\"UTF-8\" standalone=\"no\"?>\n",
       "<!DOCTYPE svg PUBLIC \"-//W3C//DTD SVG 1.1//EN\"\n",
       " \"http://www.w3.org/Graphics/SVG/1.1/DTD/svg11.dtd\">\n",
       "<!-- Generated by graphviz version 2.40.1 (20161225.0304)\n",
       " -->\n",
       "<!-- Title: Tree Pages: 1 -->\n",
       "<svg width=\"720pt\" height=\"434pt\"\n",
       " viewBox=\"0.00 0.00 720.00 434.27\" xmlns=\"http://www.w3.org/2000/svg\" xmlns:xlink=\"http://www.w3.org/1999/xlink\">\n",
       "<g id=\"graph0\" class=\"graph\" transform=\"scale(.7257 .7257) rotate(0) translate(4 594.4)\">\n",
       "<title>Tree</title>\n",
       "<polygon fill=\"#ffffff\" stroke=\"transparent\" points=\"-4,4 -4,-594.4 988.1315,-594.4 988.1315,4 -4,4\"/>\n",
       "<!-- 0 -->\n",
       "<g id=\"node1\" class=\"node\">\n",
       "<title>0</title>\n",
       "<polygon fill=\"#e58139\" fill-opacity=\"0.913725\" stroke=\"#000000\" points=\"196.6659,-361.9003 21.5971,-361.9003 21.5971,-286.4997 196.6659,-286.4997 196.6659,-361.9003\"/>\n",
       "<text text-anchor=\"start\" x=\"29.6143\" y=\"-345.2\" font-family=\"Times,serif\" font-size=\"14.00\" fill=\"#000000\">DAYS_ID_PUBLISH ≤ 9.0</text>\n",
       "<text text-anchor=\"start\" x=\"82.0436\" y=\"-328.4\" font-family=\"Times,serif\" font-size=\"14.00\" fill=\"#000000\">gini = 0.0</text>\n",
       "<text text-anchor=\"start\" x=\"58.1344\" y=\"-311.6\" font-family=\"Times,serif\" font-size=\"14.00\" fill=\"#000000\">samples = 246008</text>\n",
       "<text text-anchor=\"start\" x=\"39.8637\" y=\"-294.8\" font-family=\"Times,serif\" font-size=\"14.00\" fill=\"#000000\">value = [226094, 19914]</text>\n",
       "</g>\n",
       "<!-- 1 -->\n",
       "<g id=\"node2\" class=\"node\">\n",
       "<title>1</title>\n",
       "<polygon fill=\"#e58139\" fill-opacity=\"0.894118\" stroke=\"#000000\" points=\"454.1678,-400.9003 300.0952,-400.9003 300.0952,-325.4997 454.1678,-325.4997 454.1678,-400.9003\"/>\n",
       "<text text-anchor=\"start\" x=\"313.1655\" y=\"-384.2\" font-family=\"Times,serif\" font-size=\"14.00\" fill=\"#000000\">DAYS_BIRTH ≤ 45.0</text>\n",
       "<text text-anchor=\"start\" x=\"350.0436\" y=\"-367.4\" font-family=\"Times,serif\" font-size=\"14.00\" fill=\"#000000\">gini = 0.0</text>\n",
       "<text text-anchor=\"start\" x=\"326.1344\" y=\"-350.6\" font-family=\"Times,serif\" font-size=\"14.00\" fill=\"#000000\">samples = 117332</text>\n",
       "<text text-anchor=\"start\" x=\"307.8637\" y=\"-333.8\" font-family=\"Times,serif\" font-size=\"14.00\" fill=\"#000000\">value = [106279, 11053]</text>\n",
       "</g>\n",
       "<!-- 0&#45;&gt;1 -->\n",
       "<g id=\"edge1\" class=\"edge\">\n",
       "<title>0&#45;&gt;1</title>\n",
       "<path fill=\"none\" stroke=\"#000000\" d=\"M196.8847,-336.9701C226.7839,-341.3211 260.1844,-346.1816 290.0321,-350.5251\"/>\n",
       "<polygon fill=\"#000000\" stroke=\"#000000\" points=\"289.6082,-354.0002 300.008,-351.9768 290.6163,-347.0731 289.6082,-354.0002\"/>\n",
       "<text text-anchor=\"middle\" x=\"279.9689\" y=\"-362.7245\" font-family=\"Times,serif\" font-size=\"14.00\" fill=\"#000000\">True</text>\n",
       "</g>\n",
       "<!-- 8 -->\n",
       "<g id=\"node9\" class=\"node\">\n",
       "<title>8</title>\n",
       "<polygon fill=\"#e58139\" fill-opacity=\"0.925490\" stroke=\"#000000\" points=\"468.1659,-264.9003 286.0971,-264.9003 286.0971,-189.4997 468.1659,-189.4997 468.1659,-264.9003\"/>\n",
       "<text text-anchor=\"start\" x=\"294.1143\" y=\"-248.2\" font-family=\"Times,serif\" font-size=\"14.00\" fill=\"#000000\">DAYS_ID_PUBLISH ≤ 12.0</text>\n",
       "<text text-anchor=\"start\" x=\"350.0436\" y=\"-231.4\" font-family=\"Times,serif\" font-size=\"14.00\" fill=\"#000000\">gini = 0.0</text>\n",
       "<text text-anchor=\"start\" x=\"326.1344\" y=\"-214.6\" font-family=\"Times,serif\" font-size=\"14.00\" fill=\"#000000\">samples = 128676</text>\n",
       "<text text-anchor=\"start\" x=\"311.3637\" y=\"-197.8\" font-family=\"Times,serif\" font-size=\"14.00\" fill=\"#000000\">value = [119815, 8861]</text>\n",
       "</g>\n",
       "<!-- 0&#45;&gt;8 -->\n",
       "<g id=\"edge8\" class=\"edge\">\n",
       "<title>0&#45;&gt;8</title>\n",
       "<path fill=\"none\" stroke=\"#000000\" d=\"M196.8847,-292.4386C222.3092,-283.2364 250.2653,-273.118 276.4159,-263.653\"/>\n",
       "<polygon fill=\"#000000\" stroke=\"#000000\" points=\"277.7488,-266.8929 285.9607,-260.1984 275.3664,-260.3107 277.7488,-266.8929\"/>\n",
       "<text text-anchor=\"middle\" x=\"263.3219\" y=\"-245.3923\" font-family=\"Times,serif\" font-size=\"14.00\" fill=\"#000000\">False</text>\n",
       "</g>\n",
       "<!-- 2 -->\n",
       "<g id=\"node3\" class=\"node\">\n",
       "<title>2</title>\n",
       "<polygon fill=\"#e58139\" fill-opacity=\"0.870588\" stroke=\"#000000\" points=\"722.0635,-522.9003 578.1995,-522.9003 578.1995,-447.4997 722.0635,-447.4997 722.0635,-522.9003\"/>\n",
       "<text text-anchor=\"start\" x=\"586.1655\" y=\"-506.2\" font-family=\"Times,serif\" font-size=\"14.00\" fill=\"#000000\">DAYS_BIRTH ≤ 24.0</text>\n",
       "<text text-anchor=\"start\" x=\"623.0436\" y=\"-489.4\" font-family=\"Times,serif\" font-size=\"14.00\" fill=\"#000000\">gini = 0.0</text>\n",
       "<text text-anchor=\"start\" x=\"602.6344\" y=\"-472.6\" font-family=\"Times,serif\" font-size=\"14.00\" fill=\"#000000\">samples = 60894</text>\n",
       "<text text-anchor=\"start\" x=\"587.8637\" y=\"-455.8\" font-family=\"Times,serif\" font-size=\"14.00\" fill=\"#000000\">value = [53933, 6961]</text>\n",
       "</g>\n",
       "<!-- 1&#45;&gt;2 -->\n",
       "<g id=\"edge2\" class=\"edge\">\n",
       "<title>1&#45;&gt;2</title>\n",
       "<path fill=\"none\" stroke=\"#000000\" d=\"M454.2677,-397.6711C489.8737,-413.583 532.1726,-432.4858 568.3341,-448.6459\"/>\n",
       "<polygon fill=\"#000000\" stroke=\"#000000\" points=\"567.3145,-452.0237 577.8723,-452.9083 570.1705,-445.6329 567.3145,-452.0237\"/>\n",
       "</g>\n",
       "<!-- 5 -->\n",
       "<g id=\"node6\" class=\"node\">\n",
       "<title>5</title>\n",
       "<polygon fill=\"#e58139\" fill-opacity=\"0.921569\" stroke=\"#000000\" points=\"737.6659,-400.9003 562.5971,-400.9003 562.5971,-325.4997 737.6659,-325.4997 737.6659,-400.9003\"/>\n",
       "<text text-anchor=\"start\" x=\"570.6143\" y=\"-384.2\" font-family=\"Times,serif\" font-size=\"14.00\" fill=\"#000000\">DAYS_ID_PUBLISH ≤ 5.0</text>\n",
       "<text text-anchor=\"start\" x=\"623.0436\" y=\"-367.4\" font-family=\"Times,serif\" font-size=\"14.00\" fill=\"#000000\">gini = 0.0</text>\n",
       "<text text-anchor=\"start\" x=\"602.6344\" y=\"-350.6\" font-family=\"Times,serif\" font-size=\"14.00\" fill=\"#000000\">samples = 56438</text>\n",
       "<text text-anchor=\"start\" x=\"587.8637\" y=\"-333.8\" font-family=\"Times,serif\" font-size=\"14.00\" fill=\"#000000\">value = [52346, 4092]</text>\n",
       "</g>\n",
       "<!-- 1&#45;&gt;5 -->\n",
       "<g id=\"edge5\" class=\"edge\">\n",
       "<title>1&#45;&gt;5</title>\n",
       "<path fill=\"none\" stroke=\"#000000\" d=\"M454.2677,-363.2C484.7148,-363.2 520.0559,-363.2 552.2685,-363.2\"/>\n",
       "<polygon fill=\"#000000\" stroke=\"#000000\" points=\"552.6071,-366.7001 562.607,-363.2 552.607,-359.7001 552.6071,-366.7001\"/>\n",
       "</g>\n",
       "<!-- 3 -->\n",
       "<g id=\"node4\" class=\"node\">\n",
       "<title>3</title>\n",
       "<polygon fill=\"#e58139\" fill-opacity=\"0.843137\" stroke=\"#000000\" points=\"959.1679,-590.6014 833.095,-590.6014 833.095,-531.7986 959.1679,-531.7986 959.1679,-590.6014\"/>\n",
       "<text text-anchor=\"start\" x=\"869.0436\" y=\"-573.8\" font-family=\"Times,serif\" font-size=\"14.00\" fill=\"#000000\">gini = 0.0</text>\n",
       "<text text-anchor=\"start\" x=\"852.1344\" y=\"-557\" font-family=\"Times,serif\" font-size=\"14.00\" fill=\"#000000\">samples = 5341</text>\n",
       "<text text-anchor=\"start\" x=\"840.8637\" y=\"-540.2\" font-family=\"Times,serif\" font-size=\"14.00\" fill=\"#000000\">value = [4620, 721]</text>\n",
       "</g>\n",
       "<!-- 2&#45;&gt;3 -->\n",
       "<g id=\"edge3\" class=\"edge\">\n",
       "<title>2&#45;&gt;3</title>\n",
       "<path fill=\"none\" stroke=\"#000000\" d=\"M722.2774,-507.489C754.0123,-517.2933 791.2289,-528.7911 823.0683,-538.6276\"/>\n",
       "<polygon fill=\"#000000\" stroke=\"#000000\" points=\"822.1772,-542.0155 832.7648,-541.6233 824.2435,-535.3274 822.1772,-542.0155\"/>\n",
       "</g>\n",
       "<!-- 4 -->\n",
       "<g id=\"node5\" class=\"node\">\n",
       "<title>4</title>\n",
       "<polygon fill=\"#e58139\" fill-opacity=\"0.874510\" stroke=\"#000000\" points=\"966.1679,-514.6014 826.0951,-514.6014 826.0951,-455.7986 966.1679,-455.7986 966.1679,-514.6014\"/>\n",
       "<text text-anchor=\"start\" x=\"869.0436\" y=\"-497.8\" font-family=\"Times,serif\" font-size=\"14.00\" fill=\"#000000\">gini = 0.0</text>\n",
       "<text text-anchor=\"start\" x=\"848.6344\" y=\"-481\" font-family=\"Times,serif\" font-size=\"14.00\" fill=\"#000000\">samples = 55553</text>\n",
       "<text text-anchor=\"start\" x=\"833.8637\" y=\"-464.2\" font-family=\"Times,serif\" font-size=\"14.00\" fill=\"#000000\">value = [49313, 6240]</text>\n",
       "</g>\n",
       "<!-- 2&#45;&gt;4 -->\n",
       "<g id=\"edge4\" class=\"edge\">\n",
       "<title>2&#45;&gt;4</title>\n",
       "<path fill=\"none\" stroke=\"#000000\" d=\"M722.2774,-485.2C751.5734,-485.2 785.5408,-485.2 815.637,-485.2\"/>\n",
       "<polygon fill=\"#000000\" stroke=\"#000000\" points=\"815.6828,-488.7001 825.6828,-485.2 815.6828,-481.7001 815.6828,-488.7001\"/>\n",
       "</g>\n",
       "<!-- 6 -->\n",
       "<g id=\"node7\" class=\"node\">\n",
       "<title>6</title>\n",
       "<polygon fill=\"#e58139\" fill-opacity=\"0.917647\" stroke=\"#000000\" points=\"966.1679,-438.6014 826.0951,-438.6014 826.0951,-379.7986 966.1679,-379.7986 966.1679,-438.6014\"/>\n",
       "<text text-anchor=\"start\" x=\"869.0436\" y=\"-421.8\" font-family=\"Times,serif\" font-size=\"14.00\" fill=\"#000000\">gini = 0.0</text>\n",
       "<text text-anchor=\"start\" x=\"848.6344\" y=\"-405\" font-family=\"Times,serif\" font-size=\"14.00\" fill=\"#000000\">samples = 34723</text>\n",
       "<text text-anchor=\"start\" x=\"833.8637\" y=\"-388.2\" font-family=\"Times,serif\" font-size=\"14.00\" fill=\"#000000\">value = [32062, 2661]</text>\n",
       "</g>\n",
       "<!-- 5&#45;&gt;6 -->\n",
       "<g id=\"edge6\" class=\"edge\">\n",
       "<title>5&#45;&gt;6</title>\n",
       "<path fill=\"none\" stroke=\"#000000\" d=\"M737.9013,-379.6122C763.2477,-384.3518 790.7739,-389.499 815.6534,-394.1512\"/>\n",
       "<polygon fill=\"#000000\" stroke=\"#000000\" points=\"815.3005,-397.6459 825.7735,-396.0436 816.5872,-390.7651 815.3005,-397.6459\"/>\n",
       "</g>\n",
       "<!-- 7 -->\n",
       "<g id=\"node8\" class=\"node\">\n",
       "<title>7</title>\n",
       "<polygon fill=\"#e58139\" fill-opacity=\"0.929412\" stroke=\"#000000\" points=\"966.1679,-362.6014 826.0951,-362.6014 826.0951,-303.7986 966.1679,-303.7986 966.1679,-362.6014\"/>\n",
       "<text text-anchor=\"start\" x=\"869.0436\" y=\"-345.8\" font-family=\"Times,serif\" font-size=\"14.00\" fill=\"#000000\">gini = 0.0</text>\n",
       "<text text-anchor=\"start\" x=\"848.6344\" y=\"-329\" font-family=\"Times,serif\" font-size=\"14.00\" fill=\"#000000\">samples = 21715</text>\n",
       "<text text-anchor=\"start\" x=\"833.8637\" y=\"-312.2\" font-family=\"Times,serif\" font-size=\"14.00\" fill=\"#000000\">value = [20284, 1431]</text>\n",
       "</g>\n",
       "<!-- 5&#45;&gt;7 -->\n",
       "<g id=\"edge7\" class=\"edge\">\n",
       "<title>5&#45;&gt;7</title>\n",
       "<path fill=\"none\" stroke=\"#000000\" d=\"M737.9013,-352.4964C763.2477,-349.4053 790.7739,-346.0485 815.6534,-343.0144\"/>\n",
       "<polygon fill=\"#000000\" stroke=\"#000000\" points=\"816.2708,-346.4651 825.7735,-341.7802 815.4233,-339.5166 816.2708,-346.4651\"/>\n",
       "</g>\n",
       "<!-- 9 -->\n",
       "<g id=\"node10\" class=\"node\">\n",
       "<title>9</title>\n",
       "<polygon fill=\"#e58139\" fill-opacity=\"0.917647\" stroke=\"#000000\" points=\"722.0635,-264.9003 578.1995,-264.9003 578.1995,-189.4997 722.0635,-189.4997 722.0635,-264.9003\"/>\n",
       "<text text-anchor=\"start\" x=\"586.1655\" y=\"-248.2\" font-family=\"Times,serif\" font-size=\"14.00\" fill=\"#000000\">DAYS_BIRTH ≤ 45.0</text>\n",
       "<text text-anchor=\"start\" x=\"623.0436\" y=\"-231.4\" font-family=\"Times,serif\" font-size=\"14.00\" fill=\"#000000\">gini = 0.0</text>\n",
       "<text text-anchor=\"start\" x=\"602.6344\" y=\"-214.6\" font-family=\"Times,serif\" font-size=\"14.00\" fill=\"#000000\">samples = 59248</text>\n",
       "<text text-anchor=\"start\" x=\"587.8637\" y=\"-197.8\" font-family=\"Times,serif\" font-size=\"14.00\" fill=\"#000000\">value = [54665, 4583]</text>\n",
       "</g>\n",
       "<!-- 8&#45;&gt;9 -->\n",
       "<g id=\"edge9\" class=\"edge\">\n",
       "<title>8&#45;&gt;9</title>\n",
       "<path fill=\"none\" stroke=\"#000000\" d=\"M468.4161,-227.2C500.5859,-227.2 536.533,-227.2 567.9094,-227.2\"/>\n",
       "<polygon fill=\"#000000\" stroke=\"#000000\" points=\"567.9254,-230.7001 577.9254,-227.2 567.9253,-223.7001 567.9254,-230.7001\"/>\n",
       "</g>\n",
       "<!-- 12 -->\n",
       "<g id=\"node13\" class=\"node\">\n",
       "<title>12</title>\n",
       "<polygon fill=\"#e58139\" fill-opacity=\"0.933333\" stroke=\"#000000\" points=\"741.1659,-142.9003 559.0971,-142.9003 559.0971,-67.4997 741.1659,-67.4997 741.1659,-142.9003\"/>\n",
       "<text text-anchor=\"start\" x=\"567.1143\" y=\"-126.2\" font-family=\"Times,serif\" font-size=\"14.00\" fill=\"#000000\">DAYS_ID_PUBLISH ≤ 12.0</text>\n",
       "<text text-anchor=\"start\" x=\"623.0436\" y=\"-109.4\" font-family=\"Times,serif\" font-size=\"14.00\" fill=\"#000000\">gini = 0.0</text>\n",
       "<text text-anchor=\"start\" x=\"602.6344\" y=\"-92.6\" font-family=\"Times,serif\" font-size=\"14.00\" fill=\"#000000\">samples = 69428</text>\n",
       "<text text-anchor=\"start\" x=\"587.8637\" y=\"-75.8\" font-family=\"Times,serif\" font-size=\"14.00\" fill=\"#000000\">value = [65150, 4278]</text>\n",
       "</g>\n",
       "<!-- 8&#45;&gt;12 -->\n",
       "<g id=\"edge12\" class=\"edge\">\n",
       "<title>8&#45;&gt;12</title>\n",
       "<path fill=\"none\" stroke=\"#000000\" d=\"M461.6408,-189.4339C491.5849,-176.0523 525.4536,-160.9169 556.1387,-147.2041\"/>\n",
       "<polygon fill=\"#000000\" stroke=\"#000000\" points=\"557.8497,-150.2731 565.5515,-142.9976 554.9937,-143.8823 557.8497,-150.2731\"/>\n",
       "</g>\n",
       "<!-- 10 -->\n",
       "<g id=\"node11\" class=\"node\">\n",
       "<title>10</title>\n",
       "<polygon fill=\"#e58139\" fill-opacity=\"0.894118\" stroke=\"#000000\" points=\"966.1679,-286.6014 826.0951,-286.6014 826.0951,-227.7986 966.1679,-227.7986 966.1679,-286.6014\"/>\n",
       "<text text-anchor=\"start\" x=\"869.0436\" y=\"-269.8\" font-family=\"Times,serif\" font-size=\"14.00\" fill=\"#000000\">gini = 0.0</text>\n",
       "<text text-anchor=\"start\" x=\"848.6344\" y=\"-253\" font-family=\"Times,serif\" font-size=\"14.00\" fill=\"#000000\">samples = 32145</text>\n",
       "<text text-anchor=\"start\" x=\"833.8637\" y=\"-236.2\" font-family=\"Times,serif\" font-size=\"14.00\" fill=\"#000000\">value = [29086, 3059]</text>\n",
       "</g>\n",
       "<!-- 9&#45;&gt;10 -->\n",
       "<g id=\"edge10\" class=\"edge\">\n",
       "<title>9&#45;&gt;10</title>\n",
       "<path fill=\"none\" stroke=\"#000000\" d=\"M722.2774,-235.9983C751.5734,-239.571 785.5408,-243.7133 815.637,-247.3836\"/>\n",
       "<polygon fill=\"#000000\" stroke=\"#000000\" points=\"815.3326,-250.8723 825.6828,-248.6087 816.1801,-243.9238 815.3326,-250.8723\"/>\n",
       "</g>\n",
       "<!-- 11 -->\n",
       "<g id=\"node12\" class=\"node\">\n",
       "<title>11</title>\n",
       "<polygon fill=\"#e58139\" fill-opacity=\"0.941176\" stroke=\"#000000\" points=\"966.1679,-210.6014 826.0951,-210.6014 826.0951,-151.7986 966.1679,-151.7986 966.1679,-210.6014\"/>\n",
       "<text text-anchor=\"start\" x=\"869.0436\" y=\"-193.8\" font-family=\"Times,serif\" font-size=\"14.00\" fill=\"#000000\">gini = 0.0</text>\n",
       "<text text-anchor=\"start\" x=\"848.6344\" y=\"-177\" font-family=\"Times,serif\" font-size=\"14.00\" fill=\"#000000\">samples = 27103</text>\n",
       "<text text-anchor=\"start\" x=\"833.8637\" y=\"-160.2\" font-family=\"Times,serif\" font-size=\"14.00\" fill=\"#000000\">value = [25579, 1524]</text>\n",
       "</g>\n",
       "<!-- 9&#45;&gt;11 -->\n",
       "<g id=\"edge11\" class=\"edge\">\n",
       "<title>9&#45;&gt;11</title>\n",
       "<path fill=\"none\" stroke=\"#000000\" d=\"M722.2774,-213.7093C751.5734,-208.2312 785.5408,-201.8796 815.637,-196.2518\"/>\n",
       "<polygon fill=\"#000000\" stroke=\"#000000\" points=\"816.4965,-199.6518 825.6828,-194.3733 815.2098,-192.7711 816.4965,-199.6518\"/>\n",
       "</g>\n",
       "<!-- 13 -->\n",
       "<g id=\"node14\" class=\"node\">\n",
       "<title>13</title>\n",
       "<polygon fill=\"#e58139\" fill-opacity=\"0.933333\" stroke=\"#000000\" points=\"966.1679,-134.6014 826.0951,-134.6014 826.0951,-75.7986 966.1679,-75.7986 966.1679,-134.6014\"/>\n",
       "<text text-anchor=\"start\" x=\"869.0436\" y=\"-117.8\" font-family=\"Times,serif\" font-size=\"14.00\" fill=\"#000000\">gini = 0.0</text>\n",
       "<text text-anchor=\"start\" x=\"848.6344\" y=\"-101\" font-family=\"Times,serif\" font-size=\"14.00\" fill=\"#000000\">samples = 22235</text>\n",
       "<text text-anchor=\"start\" x=\"833.8637\" y=\"-84.2\" font-family=\"Times,serif\" font-size=\"14.00\" fill=\"#000000\">value = [20809, 1426]</text>\n",
       "</g>\n",
       "<!-- 12&#45;&gt;13 -->\n",
       "<g id=\"edge13\" class=\"edge\">\n",
       "<title>12&#45;&gt;13</title>\n",
       "<path fill=\"none\" stroke=\"#000000\" d=\"M741.3832,-105.2C765.7907,-105.2 791.9885,-105.2 815.7618,-105.2\"/>\n",
       "<polygon fill=\"#000000\" stroke=\"#000000\" points=\"815.7896,-108.7001 825.7896,-105.2 815.7895,-101.7001 815.7896,-108.7001\"/>\n",
       "</g>\n",
       "<!-- 14 -->\n",
       "<g id=\"node15\" class=\"node\">\n",
       "<title>14</title>\n",
       "<polygon fill=\"#e58139\" fill-opacity=\"0.937255\" stroke=\"#000000\" points=\"966.1679,-58.6014 826.0951,-58.6014 826.0951,.2014 966.1679,.2014 966.1679,-58.6014\"/>\n",
       "<text text-anchor=\"start\" x=\"869.0436\" y=\"-41.8\" font-family=\"Times,serif\" font-size=\"14.00\" fill=\"#000000\">gini = 0.0</text>\n",
       "<text text-anchor=\"start\" x=\"848.6344\" y=\"-25\" font-family=\"Times,serif\" font-size=\"14.00\" fill=\"#000000\">samples = 47193</text>\n",
       "<text text-anchor=\"start\" x=\"833.8637\" y=\"-8.2\" font-family=\"Times,serif\" font-size=\"14.00\" fill=\"#000000\">value = [44341, 2852]</text>\n",
       "</g>\n",
       "<!-- 12&#45;&gt;14 -->\n",
       "<g id=\"edge14\" class=\"edge\">\n",
       "<title>12&#45;&gt;14</title>\n",
       "<path fill=\"none\" stroke=\"#000000\" d=\"M741.3832,-77.0084C765.8997,-69.4342 792.2225,-61.302 816.08,-53.9314\"/>\n",
       "<polygon fill=\"#000000\" stroke=\"#000000\" points=\"817.2683,-57.2275 825.7896,-50.9317 815.202,-50.5394 817.2683,-57.2275\"/>\n",
       "</g>\n",
       "</g>\n",
       "</svg>\n"
      ],
      "text/plain": [
       "<graphviz.files.Source at 0x7febd0a721d0>"
      ]
     },
     "metadata": {},
     "output_type": "display_data"
    }
   ],
   "source": [
    "dt.plot()"
   ]
  },
  {
   "cell_type": "markdown",
   "metadata": {},
   "source": [
    "why split at DAYS_BIRTH = 45???@@"
   ]
  },
  {
   "cell_type": "markdown",
   "metadata": {},
   "source": [
    "# DAYS_ID_PUBLISH"
   ]
  },
  {
   "cell_type": "code",
   "execution_count": 19,
   "metadata": {},
   "outputs": [],
   "source": [
    "kde = KernelDensityEstimation.from_series(ds.y_trn, 'DAYS_ID_PUBLISH', ds.x_trn.DAYS_ID_PUBLISH.values)"
   ]
  },
  {
   "cell_type": "code",
   "execution_count": 20,
   "metadata": {},
   "outputs": [
    {
     "data": {
      "image/png": "[encoded data removed]",
      "text/plain": [
       "<Figure size 360x360 with 1 Axes>"
      ]
     },
     "metadata": {},
     "output_type": "display_data"
    }
   ],
   "source": [
    "kde.plot(vline=9)"
   ]
  },
  {
   "cell_type": "code",
   "execution_count": 21,
   "metadata": {},
   "outputs": [],
   "source": [
    "x = ds.x_trn.DAYS_ID_PUBLISH.values\n",
    "y = ds.y_trn.values"
   ]
  },
  {
   "cell_type": "code",
   "execution_count": 22,
   "metadata": {},
   "outputs": [],
   "source": [
    "sort_idx = np.argsort(x)\n",
    "sort_y,sort_x = y[sort_idx], x[sort_idx]"
   ]
  },
  {
   "cell_type": "code",
   "execution_count": 23,
   "metadata": {},
   "outputs": [
    {
     "data": {
      "text/html": [
       "[<matplotlib.lines.Line2D object at 0x7febd0992b00>]"
      ],
      "text/plain": [
       "[<matplotlib.lines.Line2D at 0x7febd0992b00>]"
      ]
     },
     "execution_count": 23,
     "metadata": {},
     "output_type": "execute_result"
    },
    {
     "data": {
      "image/png": "[encoded data removed]",
      "text/plain": [
       "<Figure size 432x288 with 1 Axes>"
      ]
     },
     "metadata": {},
     "output_type": "display_data"
    }
   ],
   "source": [
    "plt.plot(sort_x)"
   ]
  },
  {
   "cell_type": "code",
   "execution_count": 24,
   "metadata": {},
   "outputs": [],
   "source": [
    "min_leaf = 3"
   ]
  },
  {
   "cell_type": "code",
   "execution_count": 25,
   "metadata": {},
   "outputs": [],
   "source": [
    "rhs_cnt,rhs_sum,rhs_sum2 = len(x), sort_y.sum(), (sort_y**2).sum()\n",
    "lhs_cnt,lhs_sum,lhs_sum2 = 0,0.,0.\n",
    "score = float('inf')"
   ]
  },
  {
   "cell_type": "code",
   "execution_count": 26,
   "metadata": {},
   "outputs": [],
   "source": [
    "scores = []\n",
    "xs = []"
   ]
  },
  {
   "cell_type": "code",
   "execution_count": 27,
   "metadata": {},
   "outputs": [],
   "source": [
    "for i in range(1,len(x)-min_leaf-1):\n",
    "    xi = sort_x[i]\n",
    "    yl, yr = sort_y[:i], sort_y[i:]\n",
    "    \n",
    "    l_len, r_len = len(yl), len(yr)\n",
    "    \n",
    "    xi,yi = sort_x[i],sort_y[i]\n",
    "    lhs_cnt += 1; rhs_cnt -= 1\n",
    "    lhs_sum += yi; rhs_sum -= yi\n",
    "    lhs_sum2 += yi**2; rhs_sum2 -= yi**2\n",
    "    if i<min_leaf or xi==sort_x[i+1]: continue\n",
    "        \n",
    "    l_gini = 1-((yl==1).sum()/l_len)**2 - ((yl==0).sum()/l_len)**2\n",
    "    r_gini = 1-((yr==1).sum()/r_len)**2 - ((yr==0).sum()/r_len)**2\n",
    "    curr_score = l_gini*l_len + r_gini*r_len    \n",
    "    scores.append(curr_score)\n",
    "    xs.append(xi)\n",
    "    if curr_score<score: score, split = curr_score,xi"
   ]
  },
  {
   "cell_type": "code",
   "execution_count": 28,
   "metadata": {},
   "outputs": [
    {
     "data": {
      "text/plain": [
       "<matplotlib.lines.Line2D at 0x7febd856dd68>"
      ]
     },
     "execution_count": 28,
     "metadata": {},
     "output_type": "execute_result"
    },
    {
     "data": {
      "image/png": "[encoded data removed]",
      "text/plain": [
       "<Figure size 432x288 with 1 Axes>"
      ]
     },
     "metadata": {},
     "output_type": "display_data"
    }
   ],
   "source": [
    "plt.plot(xs, scores)\n",
    "plt.axvline(split)"
   ]
  },
  {
   "cell_type": "markdown",
   "metadata": {},
   "source": [
    "# DAYS_BIRTH"
   ]
  },
  {
   "cell_type": "code",
   "execution_count": 370,
   "metadata": {
    "code_folding": [
     0
    ]
   },
   "outputs": [],
   "source": [
    "class KernelDensityEstimation(BaseViz):\n",
    "    def __init__(self, data, label_uniques, label_values, col_names, col_values, bins):\n",
    "        self.data = data\n",
    "        self.label_uniques, self.label_values = label_uniques, label_values\n",
    "        self.col_names, self.col_values = col_names, col_values\n",
    "        self.bins = bins\n",
    "\n",
    "    @classmethod\n",
    "    def from_df(cls, df, label_name, col_names, bins = 50):\n",
    "        label_values = df[label_name].values\n",
    "        col_values, col_names = to_iter(df[col_names].T.values), to_iter(col_names)\n",
    "        label_uniques = np.unique(label_values)\n",
    "        data = cls.calculate(label_uniques, label_values, col_names, col_values, bins)\n",
    "        return cls(data, label_uniques, label_values, col_names, col_values, bins)\n",
    "\n",
    "    @classmethod\n",
    "    def from_series(cls, label_values, col_names, col_values, bins = 50):\n",
    "        label_uniques = np.unique(label_values)\n",
    "        col_names, col_values = to_iter(col_names), to_iter(col_values)\n",
    "        data = cls.calculate(label_uniques, label_values, col_names, col_values, bins)\n",
    "        return cls(data, label_uniques, label_values, col_names, col_values, bins)\n",
    "    \n",
    "    @staticmethod\n",
    "    def calculate(label_uniques, label_values, col_names, col_values, bins):\n",
    "        data = pd.DataFrame(columns=['col name', 'division', 'label value', 'count'])\n",
    "        for col_name, col_value in zip(col_names, col_values):\n",
    "            for label in label_uniques:\n",
    "                count, division = cal_histogram(na_rm(col_value[label_values == label]), bins)\n",
    "                data = pd_append(data, [col_name]*bins, division, [label]*bins, count)\n",
    "        return data\n",
    "        \n",
    "    def plot(self, bins = None, vline = None, **kargs):\n",
    "        for col_name, col_value in zip(self.col_names, self.col_values):\n",
    "            plot_kde2(self.label_uniques, self.label_values, col_name, col_value, gridsize = bins or self.bins, vline = vline, **kargs)"
   ]
  },
  {
   "cell_type": "code",
   "execution_count": 371,
   "metadata": {
    "code_folding": [
     0
    ]
   },
   "outputs": [],
   "source": [
    "def plot_kde2(label_uniques, label_values, col_name, col_value, vline = None, figsize = None, shade = True, gridsize=100):\n",
    "    if figsize is None: figsize = (5, 5)\n",
    "    plt.figure(figsize = figsize)\n",
    "    for label in label_uniques: \n",
    "        sns.kdeplot(col_value[label_values == label], shade=shade, label = 'label: ' + str(label), gridsize = gridsize)\n",
    "    if vline is not None: plt.axvline(vline)\n",
    "    plt.title('Distribution of %s by Label Value' % col_name)\n",
    "    plt.xlabel('%s' % col_name)\n",
    "    plt.ylabel('Density')\n",
    "    plt.tight_layout(h_pad = 2.5)"
   ]
  },
  {
   "cell_type": "code",
   "execution_count": 30,
   "metadata": {},
   "outputs": [],
   "source": [
    "#begin with days birth\n",
    "kde = KernelDensityEstimation.from_series(ds.y_trn, 'DAYS_BIRTH', ds.x_trn.DAYS_BIRTH.values)"
   ]
  },
  {
   "cell_type": "code",
   "execution_count": 41,
   "metadata": {},
   "outputs": [
    {
     "data": {
      "image/png": "[encoded data removed]",
      "text/plain": [
       "<Figure size 360x360 with 1 Axes>"
      ]
     },
     "metadata": {},
     "output_type": "display_data"
    }
   ],
   "source": [
    "kde.plot(vline=38)"
   ]
  },
  {
   "cell_type": "code",
   "execution_count": null,
   "metadata": {},
   "outputs": [],
   "source": []
  },
  {
   "cell_type": "code",
   "execution_count": 32,
   "metadata": {},
   "outputs": [],
   "source": [
    "x = ds.x_trn.DAYS_BIRTH.values\n",
    "y = ds.y_trn.values"
   ]
  },
  {
   "cell_type": "code",
   "execution_count": 33,
   "metadata": {},
   "outputs": [],
   "source": [
    "sort_idx = np.argsort(x)\n",
    "sort_y,sort_x = y[sort_idx], x[sort_idx]"
   ]
  },
  {
   "cell_type": "code",
   "execution_count": 34,
   "metadata": {},
   "outputs": [
    {
     "data": {
      "text/html": [
       "[<matplotlib.lines.Line2D object at 0x7febd842e588>]"
      ],
      "text/plain": [
       "[<matplotlib.lines.Line2D at 0x7febd842e588>]"
      ]
     },
     "execution_count": 34,
     "metadata": {},
     "output_type": "execute_result"
    },
    {
     "data": {
      "image/png": "[encoded data removed]",
      "text/plain": [
       "<Figure size 432x288 with 1 Axes>"
      ]
     },
     "metadata": {},
     "output_type": "display_data"
    }
   ],
   "source": [
    "plt.plot(sort_x)"
   ]
  },
  {
   "cell_type": "code",
   "execution_count": 35,
   "metadata": {},
   "outputs": [],
   "source": [
    "min_leaf = 3"
   ]
  },
  {
   "cell_type": "code",
   "execution_count": 36,
   "metadata": {},
   "outputs": [],
   "source": [
    "rhs_cnt,rhs_sum,rhs_sum2 = len(x), sort_y.sum(), (sort_y**2).sum()\n",
    "lhs_cnt,lhs_sum,lhs_sum2 = 0,0.,0.\n",
    "score = float('inf')"
   ]
  },
  {
   "cell_type": "code",
   "execution_count": 37,
   "metadata": {},
   "outputs": [],
   "source": [
    "scores = []\n",
    "xs = []"
   ]
  },
  {
   "cell_type": "code",
   "execution_count": 38,
   "metadata": {},
   "outputs": [],
   "source": [
    "for i in range(1,len(x)-min_leaf-1):\n",
    "    xi = sort_x[i]\n",
    "    yl, yr = sort_y[:i], sort_y[i:]\n",
    "    \n",
    "    l_len, r_len = len(yl), len(yr)\n",
    "    \n",
    "    xi,yi = sort_x[i],sort_y[i]\n",
    "    lhs_cnt += 1; rhs_cnt -= 1\n",
    "    lhs_sum += yi; rhs_sum -= yi\n",
    "    lhs_sum2 += yi**2; rhs_sum2 -= yi**2\n",
    "    if i<min_leaf or xi==sort_x[i+1]: continue\n",
    "        \n",
    "    l_gini = 1-((yl==1).sum()/l_len)**2 - ((yl==0).sum()/l_len)**2\n",
    "    r_gini = 1-((yr==1).sum()/r_len)**2 - ((yr==0).sum()/r_len)**2\n",
    "    curr_score = l_gini*l_len + r_gini*r_len    \n",
    "    scores.append(curr_score)\n",
    "    xs.append(xi)\n",
    "    if curr_score<score: score, split = curr_score,xi"
   ]
  },
  {
   "cell_type": "code",
   "execution_count": 39,
   "metadata": {},
   "outputs": [
    {
     "data": {
      "text/plain": [
       "<matplotlib.lines.Line2D at 0x7febd836e278>"
      ]
     },
     "execution_count": 39,
     "metadata": {},
     "output_type": "execute_result"
    },
    {
     "data": {
      "image/png": "[encoded data removed]",
      "text/plain": [
       "<Figure size 432x288 with 1 Axes>"
      ]
     },
     "metadata": {},
     "output_type": "display_data"
    }
   ],
   "source": [
    "plt.plot(xs, scores)\n",
    "plt.axvline(split)"
   ]
  },
  {
   "cell_type": "code",
   "execution_count": 40,
   "metadata": {},
   "outputs": [
    {
     "data": {
      "text/plain": [
       "38.345205479452055"
      ]
     },
     "execution_count": 40,
     "metadata": {},
     "output_type": "execute_result"
    }
   ],
   "source": [
    "split"
   ]
  }
 ],
 "metadata": {
  "kernelspec": {
   "display_name": "Python 3",
   "language": "python",
   "name": "python3"
  },
  "language_info": {
   "codemirror_mode": {
    "name": "ipython",
    "version": 3
   },
   "file_extension": ".py",
   "mimetype": "text/x-python",
   "name": "python",
   "nbconvert_exporter": "python",
   "pygments_lexer": "ipython3",
   "version": "3.6.4"
  },
  "toc": {
   "nav_menu": {},
   "number_sections": true,
   "sideBar": true,
   "skip_h1_title": false,
   "toc_cell": false,
   "toc_position": {},
   "toc_section_display": "block",
   "toc_window_display": false
  },
  "varInspector": {
   "cols": {
    "lenName": 16,
    "lenType": 16,
    "lenVar": 40
   },
   "kernels_config": {
    "python": {
     "delete_cmd_postfix": "",
     "delete_cmd_prefix": "del ",
     "library": "var_list.py",
     "varRefreshCmd": "print(var_dic_list())"
    },
    "r": {
     "delete_cmd_postfix": ") ",
     "delete_cmd_prefix": "rm(",
     "library": "var_list.r",
     "varRefreshCmd": "cat(var_dic_list()) "
    }
   },
   "types_to_exclude": [
    "module",
    "function",
    "builtin_function_or_method",
    "instance",
    "_Feature"
   ],
   "window_display": false
  }
 },
 "nbformat": 4,
 "nbformat_minor": 2
}
